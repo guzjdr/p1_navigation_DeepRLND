{
 "cells": [
  {
   "cell_type": "markdown",
   "metadata": {},
   "source": [
    "# Navigation\n",
    "\n",
    "---\n",
    "\n",
    "In this notebook, you will learn how to use the Unity ML-Agents environment for the first project of the [Deep Reinforcement Learning Nanodegree](https://www.udacity.com/course/deep-reinforcement-learning-nanodegree--nd893).\n",
    "\n",
    "### 1. Start the Environment\n",
    "\n",
    "We begin by importing some necessary packages.  If the code cell below returns an error, please revisit the project instructions to double-check that you have installed [Unity ML-Agents](https://github.com/Unity-Technologies/ml-agents/blob/master/docs/Installation.md) and [NumPy](http://www.numpy.org/)."
   ]
  },
  {
   "cell_type": "code",
   "execution_count": 1,
   "metadata": {},
   "outputs": [],
   "source": [
    "from unityagents import UnityEnvironment\n",
    "from common import *"
   ]
  },
  {
   "cell_type": "markdown",
   "metadata": {},
   "source": [
    "Next, we will start the environment!  **_Before running the code cell below_**, change the `file_name` parameter to match the location of the Unity environment that you downloaded.\n",
    "\n",
    "- **Mac**: `\"path/to/Banana.app\"`\n",
    "- **Windows** (x86): `\"path/to/Banana_Windows_x86/Banana.exe\"`\n",
    "- **Windows** (x86_64): `\"path/to/Banana_Windows_x86_64/Banana.exe\"`\n",
    "- **Linux** (x86): `\"path/to/Banana_Linux/Banana.x86\"`\n",
    "- **Linux** (x86_64): `\"path/to/Banana_Linux/Banana.x86_64\"`\n",
    "- **Linux** (x86, headless): `\"path/to/Banana_Linux_NoVis/Banana.x86\"`\n",
    "- **Linux** (x86_64, headless): `\"path/to/Banana_Linux_NoVis/Banana.x86_64\"`\n",
    "\n",
    "For instance, if you are using a Mac, then you downloaded `Banana.app`.  If this file is in the same folder as the notebook, then the line below should appear as follows:\n",
    "```\n",
    "env = UnityEnvironment(file_name=\"Banana.app\")\n",
    "```"
   ]
  },
  {
   "cell_type": "code",
   "execution_count": 2,
   "metadata": {},
   "outputs": [
    {
     "name": "stderr",
     "output_type": "stream",
     "text": [
      "INFO:unityagents:\n",
      "'Academy' started successfully!\n",
      "Unity Academy name: Academy\n",
      "        Number of Brains: 1\n",
      "        Number of External Brains : 1\n",
      "        Lesson number : 0\n",
      "        Reset Parameters :\n",
      "\t\t\n",
      "Unity brain name: BananaBrain\n",
      "        Number of Visual Observations (per agent): 0\n",
      "        Vector Observation space type: continuous\n",
      "        Vector Observation space size (per agent): 37\n",
      "        Number of stacked Vector Observation: 1\n",
      "        Vector Action space type: discrete\n",
      "        Vector Action space size (per agent): 4\n",
      "        Vector Action descriptions: , , , \n"
     ]
    }
   ],
   "source": [
    "env = UnityEnvironment(file_name=\"./Banana_Linux/Banana.x86_64\")"
   ]
  },
  {
   "cell_type": "markdown",
   "metadata": {},
   "source": [
    "Environments contain **_brains_** which are responsible for deciding the actions of their associated agents. Here we check for the first brain available, and set it as the default brain we will be controlling from Python."
   ]
  },
  {
   "cell_type": "code",
   "execution_count": 3,
   "metadata": {},
   "outputs": [],
   "source": [
    "# get the default brain\n",
    "brain_name = env.brain_names[0]\n",
    "brain = env.brains[brain_name]"
   ]
  },
  {
   "cell_type": "markdown",
   "metadata": {},
   "source": [
    "### 2. Examine the State and Action Spaces\n",
    "\n",
    "The simulation contains a single agent that navigates a large environment.  At each time step, it has four actions at its disposal:\n",
    "- `0` - walk forward \n",
    "- `1` - walk backward\n",
    "- `2` - turn left\n",
    "- `3` - turn right\n",
    "\n",
    "The state space has `37` dimensions and contains the agent's velocity, along with ray-based perception of objects around agent's forward direction.  A reward of `+1` is provided for collecting a yellow banana, and a reward of `-1` is provided for collecting a blue banana. \n",
    "\n",
    "Run the code cell below to print some information about the environment."
   ]
  },
  {
   "cell_type": "code",
   "execution_count": 4,
   "metadata": {},
   "outputs": [
    {
     "name": "stdout",
     "output_type": "stream",
     "text": [
      "Number of agents: 1\n",
      "Number of actions: 4\n",
      "States look like: [1.         0.         0.         0.         0.84408134 0.\n",
      " 0.         1.         0.         0.0748472  0.         1.\n",
      " 0.         0.         0.25755    1.         0.         0.\n",
      " 0.         0.74177343 0.         1.         0.         0.\n",
      " 0.25854847 0.         0.         1.         0.         0.09355672\n",
      " 0.         1.         0.         0.         0.31969345 0.\n",
      " 0.        ]\n",
      "States have length: 37\n"
     ]
    }
   ],
   "source": [
    "# reset the environment\n",
    "env_info = env.reset(train_mode=True)[brain_name]\n",
    "\n",
    "# number of agents in the environment\n",
    "print('Number of agents:', len(env_info.agents))\n",
    "\n",
    "# number of actions\n",
    "action_size = brain.vector_action_space_size\n",
    "print('Number of actions:', action_size)\n",
    "\n",
    "# examine the state space \n",
    "state = env_info.vector_observations[0]\n",
    "print('States look like:', state)\n",
    "state_size = len(state)\n",
    "print('States have length:', state_size)"
   ]
  },
  {
   "cell_type": "markdown",
   "metadata": {},
   "source": [
    "### 3. Take Random Actions in the Environment\n",
    "\n",
    "In the next code cell, you will learn how to use the Python API to control the agent and receive feedback from the environment.\n",
    "\n",
    "Once this cell is executed, you will watch the agent's performance, if it selects an action (uniformly) at random with each time step.  A window should pop up that allows you to observe the agent, as it moves through the environment.  \n",
    "\n",
    "Of course, as part of the project, you'll have to change the code so that the agent is able to use its experience to gradually choose better actions when interacting with the environment!"
   ]
  },
  {
   "cell_type": "code",
   "execution_count": 5,
   "metadata": {},
   "outputs": [
    {
     "name": "stdout",
     "output_type": "stream",
     "text": [
      "Score: 0.0\n"
     ]
    }
   ],
   "source": [
    "env_info = env.reset(train_mode=False)[brain_name] # reset the environment\n",
    "state = env_info.vector_observations[0]            # get the current state\n",
    "score = 0                                          # initialize the score\n",
    "while True:\n",
    "    action = np.random.randint(action_size)        # select an action\n",
    "    env_info = env.step(action)[brain_name]        # send the action to the environment\n",
    "    next_state = env_info.vector_observations[0]   # get the next state\n",
    "    reward = env_info.rewards[0]                   # get the reward\n",
    "    done = env_info.local_done[0]                  # see if episode has finished\n",
    "    score += reward                                # update the score\n",
    "    state = next_state                             # roll over the state to next time step\n",
    "    if done:                                       # exit loop if episode finished\n",
    "        break\n",
    "    \n",
    "print(\"Score: {}\".format(score))"
   ]
  },
  {
   "cell_type": "markdown",
   "metadata": {},
   "source": [
    "When finished, you can close the environment."
   ]
  },
  {
   "cell_type": "code",
   "execution_count": null,
   "metadata": {},
   "outputs": [],
   "source": [
    "env.close()"
   ]
  },
  {
   "cell_type": "markdown",
   "metadata": {},
   "source": [
    "### 4. It's Your Turn!\n",
    "\n",
    "Now it's your turn to train your own agent to solve the environment!  When training the environment, set `train_mode=True`, so that the line for resetting the environment looks like the following:\n",
    "```python\n",
    "env_info = env.reset(train_mode=True)[brain_name]\n",
    "```"
   ]
  },
  {
   "cell_type": "code",
   "execution_count": 6,
   "metadata": {},
   "outputs": [],
   "source": [
    "env_info = env.reset(train_mode=True)[brain_name] "
   ]
  },
  {
   "cell_type": "code",
   "execution_count": 7,
   "metadata": {},
   "outputs": [],
   "source": [
    "from agent import DQNAgent\n",
    "\n",
    "#Instantiate a new DQNAgent Class Object\n",
    "agentDQN = DQNAgent(state_size=37, action_size=4, seed=0)"
   ]
  },
  {
   "cell_type": "code",
   "execution_count": 8,
   "metadata": {},
   "outputs": [],
   "source": [
    "def get_env_info(enviroment):\n",
    "    state = enviroment.vector_observations[0]   # get env state\n",
    "    reward = enviroment.rewards[0]              # get the reward\n",
    "    done = enviroment.local_done[0]             # get the done\n",
    "    \n",
    "    return state, reward, done"
   ]
  },
  {
   "cell_type": "code",
   "execution_count": 9,
   "metadata": {},
   "outputs": [],
   "source": [
    "def train_dqn_agent(agent, n_episodes=2000, max_t=2000, eps_start=1.0, eps_end=0.01, eps_decay=0.995):\n",
    "    \"\"\" Training the Vanilla DQN Agent \"\"\"\n",
    "    \n",
    "    scores = []\n",
    "    scores_window = deque(maxlen=100)\n",
    "    eps = eps_start\n",
    "    for i_episode in range(1, n_episodes+1):\n",
    "        env_info = env.reset(train_mode=True)[brain_name] # reset the environment\n",
    "        state, reward, done = get_env_info(env_info)\n",
    "        score = 0\n",
    "        for t in range(max_t):\n",
    "            action = agent.act(state)       # select an action\n",
    "            env_info = env.step(action)[brain_name] #act the selected action\n",
    "            next_state, reward, done = get_env_info(env_info) # get new observations\n",
    "            agent.step(state, action, reward, next_state, done) #collected experience and learn\n",
    "            state = next_state\n",
    "            score += reward\n",
    "            if done:\n",
    "                break\n",
    "        #\n",
    "        scores_window.append(score)\n",
    "        scores.append(score)\n",
    "        eps = max(eps_end, eps_decay*eps)\n",
    "        if i_episode % 20 == 0:\n",
    "            print('\\rEpisode {}\\tAverage Score: {:.2f}'.format(i_episode, np.mean(scores_window)))\n",
    "    return scores"
   ]
  },
  {
   "cell_type": "code",
   "execution_count": 10,
   "metadata": {},
   "outputs": [
    {
     "name": "stdout",
     "output_type": "stream",
     "text": [
      "Episode 20\tAverage Score: 0.00\n",
      "Episode 40\tAverage Score: 0.05\n",
      "Episode 60\tAverage Score: 0.17\n",
      "Episode 80\tAverage Score: 0.14\n",
      "Episode 100\tAverage Score: 0.18\n",
      "Episode 120\tAverage Score: 0.19\n",
      "Episode 140\tAverage Score: 0.28\n",
      "Episode 160\tAverage Score: 0.27\n",
      "Episode 180\tAverage Score: 0.39\n",
      "Episode 200\tAverage Score: 0.36\n",
      "Episode 220\tAverage Score: 0.54\n",
      "Episode 240\tAverage Score: 0.56\n",
      "Episode 260\tAverage Score: 0.87\n",
      "Episode 280\tAverage Score: 1.69\n",
      "Episode 300\tAverage Score: 3.09\n",
      "Episode 320\tAverage Score: 4.20\n",
      "Episode 340\tAverage Score: 5.68\n",
      "Episode 360\tAverage Score: 6.73\n",
      "Episode 380\tAverage Score: 7.84\n",
      "Episode 400\tAverage Score: 8.60\n",
      "Episode 420\tAverage Score: 9.66\n",
      "Episode 440\tAverage Score: 10.59\n",
      "Episode 460\tAverage Score: 11.67\n",
      "Episode 480\tAverage Score: 12.43\n",
      "Episode 500\tAverage Score: 12.60\n",
      "Episode 520\tAverage Score: 12.73\n",
      "Episode 540\tAverage Score: 13.11\n",
      "Episode 560\tAverage Score: 13.34\n",
      "Episode 580\tAverage Score: 13.38\n",
      "Episode 600\tAverage Score: 13.80\n",
      "Episode 620\tAverage Score: 14.28\n",
      "Episode 640\tAverage Score: 14.03\n",
      "Episode 660\tAverage Score: 14.67\n",
      "Episode 680\tAverage Score: 14.55\n",
      "Episode 700\tAverage Score: 14.75\n",
      "Episode 720\tAverage Score: 14.84\n",
      "Episode 740\tAverage Score: 15.34\n",
      "Episode 760\tAverage Score: 15.32\n",
      "Episode 780\tAverage Score: 16.03\n",
      "Episode 800\tAverage Score: 16.28\n",
      "Episode 820\tAverage Score: 16.41\n",
      "Episode 840\tAverage Score: 16.38\n",
      "Episode 860\tAverage Score: 16.12\n",
      "Episode 880\tAverage Score: 16.04\n",
      "Episode 900\tAverage Score: 15.81\n",
      "Episode 920\tAverage Score: 15.91\n",
      "Episode 940\tAverage Score: 16.26\n",
      "Episode 960\tAverage Score: 16.51\n",
      "Episode 980\tAverage Score: 16.55\n",
      "Episode 1000\tAverage Score: 16.93\n",
      "Episode 1020\tAverage Score: 17.07\n",
      "Episode 1040\tAverage Score: 16.91\n",
      "Episode 1060\tAverage Score: 16.91\n",
      "Episode 1080\tAverage Score: 16.61\n",
      "Episode 1100\tAverage Score: 16.78\n",
      "Episode 1120\tAverage Score: 16.36\n",
      "Episode 1140\tAverage Score: 16.36\n",
      "Episode 1160\tAverage Score: 16.54\n",
      "Episode 1180\tAverage Score: 16.35\n",
      "Episode 1200\tAverage Score: 16.12\n",
      "Episode 1220\tAverage Score: 16.29\n",
      "Episode 1240\tAverage Score: 16.43\n",
      "Episode 1260\tAverage Score: 16.09\n",
      "Episode 1280\tAverage Score: 16.53\n",
      "Episode 1300\tAverage Score: 16.58\n",
      "Episode 1320\tAverage Score: 16.77\n",
      "Episode 1340\tAverage Score: 16.95\n",
      "Episode 1360\tAverage Score: 17.10\n",
      "Episode 1380\tAverage Score: 16.73\n",
      "Episode 1400\tAverage Score: 16.72\n",
      "Episode 1420\tAverage Score: 16.42\n",
      "Episode 1440\tAverage Score: 15.95\n",
      "Episode 1460\tAverage Score: 15.98\n",
      "Episode 1480\tAverage Score: 15.93\n",
      "Episode 1500\tAverage Score: 15.76\n",
      "Episode 1520\tAverage Score: 15.86\n",
      "Episode 1540\tAverage Score: 16.03\n",
      "Episode 1560\tAverage Score: 15.87\n",
      "Episode 1580\tAverage Score: 16.31\n",
      "Episode 1600\tAverage Score: 16.46\n",
      "Episode 1620\tAverage Score: 16.73\n",
      "Episode 1640\tAverage Score: 17.13\n",
      "Episode 1660\tAverage Score: 17.36\n",
      "Episode 1680\tAverage Score: 17.28\n",
      "Episode 1700\tAverage Score: 17.56\n",
      "Episode 1720\tAverage Score: 17.62\n",
      "Episode 1740\tAverage Score: 17.08\n",
      "Episode 1760\tAverage Score: 16.96\n",
      "Episode 1780\tAverage Score: 17.06\n",
      "Episode 1800\tAverage Score: 16.71\n",
      "Episode 1820\tAverage Score: 16.29\n",
      "Episode 1840\tAverage Score: 16.38\n",
      "Episode 1860\tAverage Score: 16.44\n",
      "Episode 1880\tAverage Score: 15.94\n",
      "Episode 1900\tAverage Score: 15.81\n",
      "Episode 1920\tAverage Score: 15.92\n",
      "Episode 1940\tAverage Score: 15.42\n",
      "Episode 1960\tAverage Score: 15.33\n",
      "Episode 1980\tAverage Score: 15.83\n",
      "Episode 2000\tAverage Score: 16.01\n"
     ]
    },
    {
     "data": {
      "image/png": "[encoded data removed]",
      "text/plain": [
       "<Figure size 432x288 with 1 Axes>"
      ]
     },
     "metadata": {
      "needs_background": "light"
     },
     "output_type": "display_data"
    }
   ],
   "source": [
    "scores = train_dqn_agent(agentDQN)\n",
    "\n",
    "# plot the scores\n",
    "fig = plt.figure()\n",
    "ax = fig.add_subplot(111)\n",
    "plt.plot(np.arange(len(scores)), scores)\n",
    "plt.ylabel('Score')\n",
    "plt.xlabel('Episode #')\n",
    "plt.show()"
   ]
  },
  {
   "cell_type": "code",
   "execution_count": null,
   "metadata": {},
   "outputs": [],
   "source": [
    "from agent import Agent\n",
    "\n",
    "agent2 = Agent(state_size=37, action_size=4, seed=0, duelingQNet=True)\n",
    "\n"
   ]
  },
  {
   "cell_type": "code",
   "execution_count": null,
   "metadata": {},
   "outputs": [],
   "source": [
    "scores2 = train_dqn_agent(agent2)\n",
    "\n",
    "# plot the scores\n",
    "fig = plt.figure()\n",
    "ax = fig.add_subplot(111)\n",
    "plt.plot(np.arange(len(scores2)), scores2)\n",
    "plt.ylabel('Score')\n",
    "plt.xlabel('Episode #')\n",
    "plt.show()"
   ]
  },
  {
   "cell_type": "code",
   "execution_count": null,
   "metadata": {},
   "outputs": [],
   "source": []
  }
 ],
 "metadata": {
  "kernelspec": {
   "display_name": "drlnd",
   "language": "python",
   "name": "drlnd"
  },
  "language_info": {
   "codemirror_mode": {
    "name": "ipython",
    "version": 3
   },
   "file_extension": ".py",
   "mimetype": "text/x-python",
   "name": "python",
   "nbconvert_exporter": "python",
   "pygments_lexer": "ipython3",
   "version": "3.6.13"
  }
 },
 "nbformat": 4,
 "nbformat_minor": 2
}
